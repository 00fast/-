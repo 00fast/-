{
 "cells": [
  {
   "cell_type": "code",
   "execution_count": null,
   "metadata": {},
   "outputs": [],
   "source": [
    "#Text_Preprocessing에서 변수들 가져와야 함 위치에 따라서 import 시켜주세요\n",
    "from sklearn.feature_extraction.text import TfidfVectorizer\n",
    "import joblib\n",
    "import xgboost as xgb\n",
    "from sklearn.metrics import accuracy_score\n",
    "\n",
    "vectorizer = TfidfVectorizer()\n",
    "X_train_vec = vectorizer.fit_transform(X_train)\n",
    "\n",
    "dtrain = xgb.DMatrix(X_train_vec, label=Y_train)\n",
    "\n",
    "# XGBoost 파라미터 조절\n",
    "xgb_params = {\n",
    "    'objective': 'binary:logistic',  # 이진 분류\n",
    "    'max_depth': 50,  # 트리 최대 깊이\n",
    "    'silent': 1,  # 출력 관련 메시지\n",
    "    'eta': 0.3,  # Learning rate \n",
    "    'subsample': 0.8,  # 학습 시 데이터 샘플링 비율 \n",
    "    'colsample_bytree': 0.5,  # 트리 생성에 필요한 feature 샘플링에 사용\n",
    "    'alpha': 0.5,  # L1 regularization weight 값\n",
    "    'tree_method': 'gpu_hist'  # gpu 사용\n",
    "}\n",
    "# XGBoost 학습\n",
    "xgb_model = xgb.train(xgb_params, dtrain, num_boost_round=150)\n",
    "\n",
    "# model 저장\n",
    "xgb_model.save_model(\"/content/xgb_model.model\")\n",
    "\n",
    "# vectorizer 저장\n",
    "joblib.dump(vectorizer, \"/content/vectorizer.pkl\")\n",
    "\n",
    "# XGBoost 모델 테스트 \n",
    "X_test_vec = vectorizer.transform(X_test)\n",
    "xgb_test = xgb.DMatrix(X_test_vec, label=Y_test)\n",
    "\n",
    "xgb_y_pred = xgb_model.predict(xgb_test)\n",
    "xgb_predictions = [round(value) for value in xgb_y_pred]\n",
    "\n",
    "# 정확도 계산\n",
    "xgb_accuracy = accuracy_score(Y_test, xgb_predictions)\n",
    "\n",
    "print(\"XGBoost accuracy:\", xgb_accuracy)"
   ]
  }
 ],
 "metadata": {
  "language_info": {
   "name": "python"
  },
  "orig_nbformat": 4
 },
 "nbformat": 4,
 "nbformat_minor": 2
}
